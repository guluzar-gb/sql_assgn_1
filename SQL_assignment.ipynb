{
  "nbformat": 4,
  "nbformat_minor": 0,
  "metadata": {
    "colab": {
      "provenance": [],
      "authorship_tag": "ABX9TyMgNzST8gjEM4GT7yPpcT0t",
      "include_colab_link": true
    },
    "kernelspec": {
      "name": "python3",
      "display_name": "Python 3"
    },
    "language_info": {
      "name": "python"
    }
  },
  "cells": [
    {
      "cell_type": "markdown",
      "metadata": {
        "id": "view-in-github",
        "colab_type": "text"
      },
      "source": [
        "<a href=\"https://colab.research.google.com/github/guluzar-gb/sql_assgn_1/blob/main/SQL_assignment.ipynb\" target=\"_parent\"><img src=\"https://colab.research.google.com/assets/colab-badge.svg\" alt=\"Open In Colab\"/></a>"
      ]
    },
    {
      "cell_type": "code",
      "execution_count": null,
      "metadata": {
        "id": "4jSZqmB05ipX"
      },
      "outputs": [],
      "source": [
        "#1. How many customers are in each city? Your solution should include the city name and the number of customers sorted from highest to lowest.\n",
        "\n",
        "SELECT city, COUNT(customer_id)\n",
        "FROM sale.customer\n",
        "GROUP BY city\n",
        "ORDER BY COUNT(customer_id) DESC;"
      ]
    },
    {
      "cell_type": "code",
      "source": [
        " #Find the total product quantity of the orders. Your solution should include order ids and quantity of products.\n",
        "\n",
        "SELECT order_id, COUNT(quantity)as quantity_of_product\n",
        "FROM sale.order_item\n",
        "GROUP BY order_id\n",
        "ORDER BY COUNT(quantity) DESC;"
      ],
      "metadata": {
        "id": "5jS4Ie3p5rjN"
      },
      "execution_count": null,
      "outputs": []
    },
    {
      "cell_type": "code",
      "source": [
        "#Find the first order date for each customer_id\n",
        "\n",
        "SELECT customer_id, MIN(order_date) AS first_order_date\n",
        "FROM sale.orders\n",
        "GROUP BY customer_id;"
      ],
      "metadata": {
        "id": "5FNUhRJQ8OFG"
      },
      "execution_count": null,
      "outputs": []
    },
    {
      "cell_type": "code",
      "source": [
        "#4. Find the total amount of each order. Your solution should include order id and total amount sorted from highest to lowest.\n",
        "SELECT order_id, SUM(list_price * quantity) AS total_amount\n",
        "FROM sale.order_item\n",
        "GROUP BY order_id\n",
        "ORDER BY total_amount DESC;"
      ],
      "metadata": {
        "id": "JdwzZVHq9Xa_"
      },
      "execution_count": null,
      "outputs": []
    },
    {
      "cell_type": "code",
      "source": [
        "#5. Find the order id that has the maximum average product price.\n",
        "#Your solution should include only one row with the order id and average product price.\n",
        "\n",
        "SELECT TOp 1 order_id, AVG(list_price / quantity) AS avg_price\n",
        "FROM SampleRetail.sale.order_item\n",
        "GROUP BY order_id\n",
        "ORDER BY avg_price DESC;"
      ],
      "metadata": {
        "id": "BkLd6ST3Oqpz"
      },
      "execution_count": null,
      "outputs": []
    },
    {
      "cell_type": "code",
      "source": [
        "#6. Write a query that displays brand_id, product_id and\n",
        "#list_price sorted first by brand_id (in ascending order), and then by list_price  (in descending order).\n",
        "SELECT brand_id, product_id, list_price\n",
        "FROM SampleRetail.product.product\n",
        "Order By brand_id ASC, list_price DESC;\n"
      ],
      "metadata": {
        "id": "Gf2SOZIvR1Ln"
      },
      "execution_count": null,
      "outputs": []
    },
    {
      "cell_type": "code",
      "source": [
        "#7. Write a query that displays brand_id, product_id and list_price, but this time sorted\n",
        "# first by list_price (in descending order), and then by brand_id (in ascending order).\n",
        "SELECT  list_price, brand_id, product_id\n",
        "FROM SampleRetail.product.product\n",
        "Order By list_price DESC, brand_id ASC;"
      ],
      "metadata": {
        "id": "qHRV7DIZNisv"
      },
      "execution_count": null,
      "outputs": []
    },
    {
      "cell_type": "code",
      "source": [
        "#8. Compare the results of these two queries above.\n",
        "# How are the results different when you switch the column you sort on first?\n",
        "\n",
        "# The first query sorts the results first by brand_id in ascending order,\n",
        "# and then by list_price in descending order.\n",
        "# The second query sorts the results first by list_price in descending order,\n",
        "#  and then by brand_id in ascending order.\n",
        "\n",
        "#  The main difference is the primary sorting columns, where  the results in the first query are grouped by brand_id first,\n",
        "#  and then sorted within each group by list_price. While, the the results in the secons query are sorted by list_price first,\n",
        "#   and then within each list_price value, sorted by brand_id.\n",
        "\n",
        "# As a result, the two queries will produce different results.\n",
        "# For example, if there are two products with the same list_price\n",
        "# but different brand_id values, the first query will group them together based on brand_id,\n",
        "#  while the second query will treat them as separate rows based on their distinct list_price values.\n",
        "\n",
        "\n"
      ],
      "metadata": {
        "id": "6abtHzE2O6bJ"
      },
      "execution_count": null,
      "outputs": []
    },
    {
      "cell_type": "code",
      "source": [
        "#9. Write a query to pull the first 10 rows\n",
        "# and all columns from the product table that have a list_price greater than or equal to 3000."
      ],
      "metadata": {
        "id": "eDJAOKM9RXuA"
      },
      "execution_count": null,
      "outputs": []
    },
    {
      "cell_type": "code",
      "source": [
        "#10. Write a query to pull the first 5 rows and all columns from the product table that have a list_price less than 3000.\n",
        "\n",
        "  SELECT TOP (5) [product_id]\n",
        "      ,[product_name]\n",
        "      ,[brand_id]\n",
        "      ,[category_id]\n",
        "      ,[model_year]\n",
        "      ,[list_price]\n",
        "  FROM [SampleRetail].[product].[product]\n",
        "  WHERE list_price< 3000"
      ],
      "metadata": {
        "id": "fgT-JDceUnGi"
      },
      "execution_count": null,
      "outputs": []
    },
    {
      "cell_type": "code",
      "source": [
        "#11. Find all customer last names that start with 'B' and end with 's'.\n",
        "Select last_name from SampleRetail.sale.customer\n",
        "WHERE last_name LIKE 'B%s';"
      ],
      "metadata": {
        "id": "lFHCxWxMU_th"
      },
      "execution_count": null,
      "outputs": []
    },
    {
      "cell_type": "code",
      "source": [
        "#12. Use the customer table to find all information regarding customers whose address is Allen or Buffalo or Boston or Berkeley.\n",
        "\n",
        "Select * from SampleRetail.sale.customer\n",
        "WHERE city IN ('Allen', 'Buffalo', 'Boston', 'Berkeley');"
      ],
      "metadata": {
        "id": "vP3ZlPmOWfi-"
      },
      "execution_count": null,
      "outputs": []
    }
  ]
}